{
 "cells": [
  {
   "cell_type": "markdown",
   "metadata": {},
   "source": [
    "# Imports"
   ]
  },
  {
   "cell_type": "code",
   "execution_count": 1,
   "metadata": {},
   "outputs": [],
   "source": [
    "%matplotlib inline\n",
    "from pathlib import Path\n",
    "import pandas as pd"
   ]
  },
  {
   "cell_type": "markdown",
   "metadata": {},
   "source": [
    "# Constants"
   ]
  },
  {
   "cell_type": "code",
   "execution_count": 2,
   "metadata": {},
   "outputs": [],
   "source": [
    "DATA_FILEPATH = Path.cwd() / '..' / 'data.csv'"
   ]
  },
  {
   "cell_type": "markdown",
   "metadata": {},
   "source": [
    "---"
   ]
  },
  {
   "cell_type": "markdown",
   "metadata": {},
   "source": [
    "# Reading the data"
   ]
  },
  {
   "cell_type": "markdown",
   "metadata": {},
   "source": [
    "Let's fill all NaN values with 0 (_under the naïve assumption that the lack of data means absence of cases_)."
   ]
  },
  {
   "cell_type": "code",
   "execution_count": 3,
   "metadata": {},
   "outputs": [
    {
     "data": {
      "text/html": [
       "<div>\n",
       "<style scoped>\n",
       "    .dataframe tbody tr th:only-of-type {\n",
       "        vertical-align: middle;\n",
       "    }\n",
       "\n",
       "    .dataframe tbody tr th {\n",
       "        vertical-align: top;\n",
       "    }\n",
       "\n",
       "    .dataframe thead th {\n",
       "        text-align: right;\n",
       "    }\n",
       "</style>\n",
       "<table border=\"1\" class=\"dataframe\">\n",
       "  <thead>\n",
       "    <tr style=\"text-align: right;\">\n",
       "      <th></th>\n",
       "      <th>confirmados</th>\n",
       "      <th>confirmados_arsnorte</th>\n",
       "      <th>confirmados_arscentro</th>\n",
       "      <th>confirmados_arslvt</th>\n",
       "      <th>confirmados_arsalentejo</th>\n",
       "      <th>confirmados_arsalgarve</th>\n",
       "      <th>confirmados_acores</th>\n",
       "      <th>confirmados_madeira</th>\n",
       "      <th>confirmados_estrangeiro</th>\n",
       "      <th>confirmados_novos</th>\n",
       "      <th>...</th>\n",
       "      <th>obitos</th>\n",
       "      <th>internados</th>\n",
       "      <th>internados_uci</th>\n",
       "      <th>lab</th>\n",
       "      <th>suspeitos</th>\n",
       "      <th>vigilancia</th>\n",
       "      <th>infirmados</th>\n",
       "      <th>cadeias_transmissao</th>\n",
       "      <th>transmissao_importada</th>\n",
       "      <th>transmissao_comunitaria</th>\n",
       "    </tr>\n",
       "    <tr>\n",
       "      <th>data</th>\n",
       "      <th></th>\n",
       "      <th></th>\n",
       "      <th></th>\n",
       "      <th></th>\n",
       "      <th></th>\n",
       "      <th></th>\n",
       "      <th></th>\n",
       "      <th></th>\n",
       "      <th></th>\n",
       "      <th></th>\n",
       "      <th></th>\n",
       "      <th></th>\n",
       "      <th></th>\n",
       "      <th></th>\n",
       "      <th></th>\n",
       "      <th></th>\n",
       "      <th></th>\n",
       "      <th></th>\n",
       "      <th></th>\n",
       "      <th></th>\n",
       "      <th></th>\n",
       "    </tr>\n",
       "  </thead>\n",
       "  <tbody>\n",
       "    <tr>\n",
       "      <td>2020-02-26</td>\n",
       "      <td>0</td>\n",
       "      <td>0</td>\n",
       "      <td>0</td>\n",
       "      <td>0</td>\n",
       "      <td>0</td>\n",
       "      <td>0</td>\n",
       "      <td>0</td>\n",
       "      <td>0</td>\n",
       "      <td>0.0</td>\n",
       "      <td>0</td>\n",
       "      <td>...</td>\n",
       "      <td>0</td>\n",
       "      <td>0.0</td>\n",
       "      <td>0.0</td>\n",
       "      <td>0.0</td>\n",
       "      <td>25</td>\n",
       "      <td>0.0</td>\n",
       "      <td>0.0</td>\n",
       "      <td>0.0</td>\n",
       "      <td>0.0</td>\n",
       "      <td>0.0</td>\n",
       "    </tr>\n",
       "    <tr>\n",
       "      <td>2020-02-27</td>\n",
       "      <td>0</td>\n",
       "      <td>0</td>\n",
       "      <td>0</td>\n",
       "      <td>0</td>\n",
       "      <td>0</td>\n",
       "      <td>0</td>\n",
       "      <td>0</td>\n",
       "      <td>0</td>\n",
       "      <td>0.0</td>\n",
       "      <td>0</td>\n",
       "      <td>...</td>\n",
       "      <td>0</td>\n",
       "      <td>0.0</td>\n",
       "      <td>0.0</td>\n",
       "      <td>0.0</td>\n",
       "      <td>51</td>\n",
       "      <td>0.0</td>\n",
       "      <td>0.0</td>\n",
       "      <td>0.0</td>\n",
       "      <td>0.0</td>\n",
       "      <td>0.0</td>\n",
       "    </tr>\n",
       "    <tr>\n",
       "      <td>2020-02-28</td>\n",
       "      <td>0</td>\n",
       "      <td>0</td>\n",
       "      <td>0</td>\n",
       "      <td>0</td>\n",
       "      <td>0</td>\n",
       "      <td>0</td>\n",
       "      <td>0</td>\n",
       "      <td>0</td>\n",
       "      <td>0.0</td>\n",
       "      <td>0</td>\n",
       "      <td>...</td>\n",
       "      <td>0</td>\n",
       "      <td>0.0</td>\n",
       "      <td>0.0</td>\n",
       "      <td>0.0</td>\n",
       "      <td>59</td>\n",
       "      <td>0.0</td>\n",
       "      <td>0.0</td>\n",
       "      <td>0.0</td>\n",
       "      <td>0.0</td>\n",
       "      <td>0.0</td>\n",
       "    </tr>\n",
       "    <tr>\n",
       "      <td>2020-02-29</td>\n",
       "      <td>0</td>\n",
       "      <td>0</td>\n",
       "      <td>0</td>\n",
       "      <td>0</td>\n",
       "      <td>0</td>\n",
       "      <td>0</td>\n",
       "      <td>0</td>\n",
       "      <td>0</td>\n",
       "      <td>0.0</td>\n",
       "      <td>0</td>\n",
       "      <td>...</td>\n",
       "      <td>0</td>\n",
       "      <td>0.0</td>\n",
       "      <td>0.0</td>\n",
       "      <td>0.0</td>\n",
       "      <td>70</td>\n",
       "      <td>0.0</td>\n",
       "      <td>0.0</td>\n",
       "      <td>0.0</td>\n",
       "      <td>0.0</td>\n",
       "      <td>0.0</td>\n",
       "    </tr>\n",
       "    <tr>\n",
       "      <td>2020-03-01</td>\n",
       "      <td>0</td>\n",
       "      <td>0</td>\n",
       "      <td>0</td>\n",
       "      <td>0</td>\n",
       "      <td>0</td>\n",
       "      <td>0</td>\n",
       "      <td>0</td>\n",
       "      <td>0</td>\n",
       "      <td>0.0</td>\n",
       "      <td>0</td>\n",
       "      <td>...</td>\n",
       "      <td>0</td>\n",
       "      <td>0.0</td>\n",
       "      <td>0.0</td>\n",
       "      <td>0.0</td>\n",
       "      <td>85</td>\n",
       "      <td>0.0</td>\n",
       "      <td>0.0</td>\n",
       "      <td>0.0</td>\n",
       "      <td>0.0</td>\n",
       "      <td>0.0</td>\n",
       "    </tr>\n",
       "  </tbody>\n",
       "</table>\n",
       "<p>5 rows × 21 columns</p>\n",
       "</div>"
      ],
      "text/plain": [
       "            confirmados  confirmados_arsnorte  confirmados_arscentro  \\\n",
       "data                                                                   \n",
       "2020-02-26            0                     0                      0   \n",
       "2020-02-27            0                     0                      0   \n",
       "2020-02-28            0                     0                      0   \n",
       "2020-02-29            0                     0                      0   \n",
       "2020-03-01            0                     0                      0   \n",
       "\n",
       "            confirmados_arslvt  confirmados_arsalentejo  \\\n",
       "data                                                      \n",
       "2020-02-26                   0                        0   \n",
       "2020-02-27                   0                        0   \n",
       "2020-02-28                   0                        0   \n",
       "2020-02-29                   0                        0   \n",
       "2020-03-01                   0                        0   \n",
       "\n",
       "            confirmados_arsalgarve  confirmados_acores  confirmados_madeira  \\\n",
       "data                                                                          \n",
       "2020-02-26                       0                   0                    0   \n",
       "2020-02-27                       0                   0                    0   \n",
       "2020-02-28                       0                   0                    0   \n",
       "2020-02-29                       0                   0                    0   \n",
       "2020-03-01                       0                   0                    0   \n",
       "\n",
       "            confirmados_estrangeiro  confirmados_novos  ...  obitos  \\\n",
       "data                                                    ...           \n",
       "2020-02-26                      0.0                  0  ...       0   \n",
       "2020-02-27                      0.0                  0  ...       0   \n",
       "2020-02-28                      0.0                  0  ...       0   \n",
       "2020-02-29                      0.0                  0  ...       0   \n",
       "2020-03-01                      0.0                  0  ...       0   \n",
       "\n",
       "            internados  internados_uci  lab  suspeitos  vigilancia  \\\n",
       "data                                                                 \n",
       "2020-02-26         0.0             0.0  0.0         25         0.0   \n",
       "2020-02-27         0.0             0.0  0.0         51         0.0   \n",
       "2020-02-28         0.0             0.0  0.0         59         0.0   \n",
       "2020-02-29         0.0             0.0  0.0         70         0.0   \n",
       "2020-03-01         0.0             0.0  0.0         85         0.0   \n",
       "\n",
       "            infirmados  cadeias_transmissao  transmissao_importada  \\\n",
       "data                                                                 \n",
       "2020-02-26         0.0                  0.0                    0.0   \n",
       "2020-02-27         0.0                  0.0                    0.0   \n",
       "2020-02-28         0.0                  0.0                    0.0   \n",
       "2020-02-29         0.0                  0.0                    0.0   \n",
       "2020-03-01         0.0                  0.0                    0.0   \n",
       "\n",
       "            transmissao_comunitaria  \n",
       "data                                 \n",
       "2020-02-26                      0.0  \n",
       "2020-02-27                      0.0  \n",
       "2020-02-28                      0.0  \n",
       "2020-02-29                      0.0  \n",
       "2020-03-01                      0.0  \n",
       "\n",
       "[5 rows x 21 columns]"
      ]
     },
     "execution_count": 3,
     "metadata": {},
     "output_type": "execute_result"
    }
   ],
   "source": [
    "data = pd.read_csv(DATA_FILEPATH, parse_dates=[0], index_col=[0], infer_datetime_format=True)\n",
    "data.fillna(value=0).head(5)"
   ]
  },
  {
   "cell_type": "markdown",
   "metadata": {},
   "source": [
    "The columns we have: "
   ]
  },
  {
   "cell_type": "markdown",
   "metadata": {},
   "source": [
    "# Inspecting the growth curves in ARS Norte and ARS Lisboa e Vale do Tejo"
   ]
  },
  {
   "cell_type": "markdown",
   "metadata": {},
   "source": [
    "Looking at the numbers per region, we see that the growth in new cases in the _Lisboa e Vale do Tejo_ region has picked up in the last few days, after a rather slow start when compared to the Norte region, the main propagation cluster in the country in the first days. Let's confirm visually: "
   ]
  },
  {
   "cell_type": "code",
   "execution_count": 5,
   "metadata": {},
   "outputs": [
    {
     "data": {
      "text/plain": [
       "<matplotlib.axes._subplots.AxesSubplot at 0x7f50aff31d50>"
      ]
     },
     "execution_count": 5,
     "metadata": {},
     "output_type": "execute_result"
    },
    {
     "data": {
      "image/png": "[encoded data removed]",
      "text/plain": [
       "<Figure size 576x396 with 1 Axes>"
      ]
     },
     "metadata": {
      "needs_background": "light"
     },
     "output_type": "display_data"
    }
   ],
   "source": [
    "data[['confirmados_arsnorte', 'confirmados_arslvt']].plot(kind='line', title='Cases in ARS Norte and ARS Lisboa e Vale do Tejo', linestyle='--', marker='o', rot=45, fontsize=8)"
   ]
  },
  {
   "cell_type": "markdown",
   "metadata": {},
   "source": [
    "Indeed, a steep growth."
   ]
  }
 ],
 "metadata": {
  "kernelspec": {
   "display_name": "Python 3",
   "language": "python",
   "name": "python3"
  },
  "language_info": {
   "codemirror_mode": {
    "name": "ipython",
    "version": 3
   },
   "file_extension": ".py",
   "mimetype": "text/x-python",
   "name": "python",
   "nbconvert_exporter": "python",
   "pygments_lexer": "ipython3",
   "version": "3.7.5"
  }
 },
 "nbformat": 4,
 "nbformat_minor": 4
}
