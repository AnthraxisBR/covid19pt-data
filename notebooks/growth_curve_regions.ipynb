{
 "cells": [
  {
   "cell_type": "markdown",
   "metadata": {},
   "source": [
    "# Imports"
   ]
  },
  {
   "cell_type": "code",
   "execution_count": 1,
   "metadata": {},
   "outputs": [],
   "source": [
    "%matplotlib widget\n",
    "from pathlib import Path\n",
    "import numpy as np\n",
    "import pandas as pd\n",
    "import matplotlib.pyplot as plt\n",
    "plt.style.use('seaborn-notebook')\n",
    "from scipy.optimize import curve_fit"
   ]
  },
  {
   "cell_type": "markdown",
   "metadata": {},
   "source": [
    "# Constants"
   ]
  },
  {
   "cell_type": "code",
   "execution_count": 2,
   "metadata": {},
   "outputs": [],
   "source": [
    "DATA_FILEPATH = Path.cwd() / '..' / 'data.csv'"
   ]
  },
  {
   "cell_type": "markdown",
   "metadata": {},
   "source": [
    "# Helper functions"
   ]
  },
  {
   "cell_type": "code",
   "execution_count": 19,
   "metadata": {},
   "outputs": [],
   "source": [
    "# Basic function of exponential evolution\n",
    "def exponential_growth(t, pzero, growth_rate):\n",
    "    return pzero * (1+growth_rate)**t\n",
    "    \n",
    "# Function to fit an exponential to experimental data and return the data\n",
    "def fit_exponential(xdata, ydata, func=exponential_growth): \n",
    "    popt, pcov = curve_fit(func, xdata, ydata)\n",
    "    new_vals = func(xdata, *popt)\n",
    "    print(\"Standard deviation of the parameters during fit: {}\".format(np.sqrt(np.diag(pcov))))\n",
    "    return new_vals, popt[-1], popt"
   ]
  },
  {
   "cell_type": "markdown",
   "metadata": {},
   "source": [
    "---"
   ]
  },
  {
   "cell_type": "markdown",
   "metadata": {},
   "source": [
    "# Reading the data"
   ]
  },
  {
   "cell_type": "markdown",
   "metadata": {},
   "source": [
    "Let's fill all NaN values with 0 (_under the naïve assumption that the lack of data means absence of cases_)."
   ]
  },
  {
   "cell_type": "code",
   "execution_count": 4,
   "metadata": {},
   "outputs": [
    {
     "data": {
      "text/html": [
       "<div>\n",
       "<style scoped>\n",
       "    .dataframe tbody tr th:only-of-type {\n",
       "        vertical-align: middle;\n",
       "    }\n",
       "\n",
       "    .dataframe tbody tr th {\n",
       "        vertical-align: top;\n",
       "    }\n",
       "\n",
       "    .dataframe thead th {\n",
       "        text-align: right;\n",
       "    }\n",
       "</style>\n",
       "<table border=\"1\" class=\"dataframe\">\n",
       "  <thead>\n",
       "    <tr style=\"text-align: right;\">\n",
       "      <th></th>\n",
       "      <th>confirmados</th>\n",
       "      <th>confirmados_arsnorte</th>\n",
       "      <th>confirmados_arscentro</th>\n",
       "      <th>confirmados_arslvt</th>\n",
       "      <th>confiramdos_alentejo</th>\n",
       "      <th>confirmados_algarve</th>\n",
       "      <th>confirmados_acores</th>\n",
       "      <th>confirmados_madeira</th>\n",
       "      <th>confirmados_estrangeiro</th>\n",
       "      <th>confirmados_novos</th>\n",
       "      <th>recuperados</th>\n",
       "      <th>óbitos</th>\n",
       "      <th>internados</th>\n",
       "      <th>internados_uci</th>\n",
       "      <th>lab</th>\n",
       "      <th>suspeitos</th>\n",
       "      <th>vigilancia</th>\n",
       "      <th>cadeias_transmissao</th>\n",
       "      <th>transmissao_importada</th>\n",
       "      <th>transmissao_comunitaria</th>\n",
       "    </tr>\n",
       "    <tr>\n",
       "      <th>data</th>\n",
       "      <th></th>\n",
       "      <th></th>\n",
       "      <th></th>\n",
       "      <th></th>\n",
       "      <th></th>\n",
       "      <th></th>\n",
       "      <th></th>\n",
       "      <th></th>\n",
       "      <th></th>\n",
       "      <th></th>\n",
       "      <th></th>\n",
       "      <th></th>\n",
       "      <th></th>\n",
       "      <th></th>\n",
       "      <th></th>\n",
       "      <th></th>\n",
       "      <th></th>\n",
       "      <th></th>\n",
       "      <th></th>\n",
       "      <th></th>\n",
       "    </tr>\n",
       "  </thead>\n",
       "  <tbody>\n",
       "    <tr>\n",
       "      <td>2020-02-26</td>\n",
       "      <td>0</td>\n",
       "      <td>0</td>\n",
       "      <td>0</td>\n",
       "      <td>0</td>\n",
       "      <td>0</td>\n",
       "      <td>0</td>\n",
       "      <td>0</td>\n",
       "      <td>0</td>\n",
       "      <td>0</td>\n",
       "      <td>0</td>\n",
       "      <td>0</td>\n",
       "      <td>0</td>\n",
       "      <td>0.0</td>\n",
       "      <td>0.0</td>\n",
       "      <td>0.0</td>\n",
       "      <td>25</td>\n",
       "      <td>0.0</td>\n",
       "      <td>0.0</td>\n",
       "      <td>0.0</td>\n",
       "      <td>0.0</td>\n",
       "    </tr>\n",
       "    <tr>\n",
       "      <td>2020-02-27</td>\n",
       "      <td>0</td>\n",
       "      <td>0</td>\n",
       "      <td>0</td>\n",
       "      <td>0</td>\n",
       "      <td>0</td>\n",
       "      <td>0</td>\n",
       "      <td>0</td>\n",
       "      <td>0</td>\n",
       "      <td>0</td>\n",
       "      <td>0</td>\n",
       "      <td>0</td>\n",
       "      <td>0</td>\n",
       "      <td>0.0</td>\n",
       "      <td>0.0</td>\n",
       "      <td>0.0</td>\n",
       "      <td>51</td>\n",
       "      <td>0.0</td>\n",
       "      <td>0.0</td>\n",
       "      <td>0.0</td>\n",
       "      <td>0.0</td>\n",
       "    </tr>\n",
       "    <tr>\n",
       "      <td>2020-02-28</td>\n",
       "      <td>0</td>\n",
       "      <td>0</td>\n",
       "      <td>0</td>\n",
       "      <td>0</td>\n",
       "      <td>0</td>\n",
       "      <td>0</td>\n",
       "      <td>0</td>\n",
       "      <td>0</td>\n",
       "      <td>0</td>\n",
       "      <td>0</td>\n",
       "      <td>0</td>\n",
       "      <td>0</td>\n",
       "      <td>0.0</td>\n",
       "      <td>0.0</td>\n",
       "      <td>0.0</td>\n",
       "      <td>59</td>\n",
       "      <td>0.0</td>\n",
       "      <td>0.0</td>\n",
       "      <td>0.0</td>\n",
       "      <td>0.0</td>\n",
       "    </tr>\n",
       "    <tr>\n",
       "      <td>2020-02-29</td>\n",
       "      <td>0</td>\n",
       "      <td>0</td>\n",
       "      <td>0</td>\n",
       "      <td>0</td>\n",
       "      <td>0</td>\n",
       "      <td>0</td>\n",
       "      <td>0</td>\n",
       "      <td>0</td>\n",
       "      <td>0</td>\n",
       "      <td>0</td>\n",
       "      <td>0</td>\n",
       "      <td>0</td>\n",
       "      <td>0.0</td>\n",
       "      <td>0.0</td>\n",
       "      <td>0.0</td>\n",
       "      <td>70</td>\n",
       "      <td>0.0</td>\n",
       "      <td>0.0</td>\n",
       "      <td>0.0</td>\n",
       "      <td>0.0</td>\n",
       "    </tr>\n",
       "    <tr>\n",
       "      <td>2020-03-01</td>\n",
       "      <td>0</td>\n",
       "      <td>0</td>\n",
       "      <td>0</td>\n",
       "      <td>0</td>\n",
       "      <td>0</td>\n",
       "      <td>0</td>\n",
       "      <td>0</td>\n",
       "      <td>0</td>\n",
       "      <td>0</td>\n",
       "      <td>0</td>\n",
       "      <td>0</td>\n",
       "      <td>0</td>\n",
       "      <td>0.0</td>\n",
       "      <td>0.0</td>\n",
       "      <td>0.0</td>\n",
       "      <td>85</td>\n",
       "      <td>0.0</td>\n",
       "      <td>0.0</td>\n",
       "      <td>0.0</td>\n",
       "      <td>0.0</td>\n",
       "    </tr>\n",
       "  </tbody>\n",
       "</table>\n",
       "</div>"
      ],
      "text/plain": [
       "            confirmados  confirmados_arsnorte  confirmados_arscentro  \\\n",
       "data                                                                   \n",
       "2020-02-26            0                     0                      0   \n",
       "2020-02-27            0                     0                      0   \n",
       "2020-02-28            0                     0                      0   \n",
       "2020-02-29            0                     0                      0   \n",
       "2020-03-01            0                     0                      0   \n",
       "\n",
       "            confirmados_arslvt  confiramdos_alentejo  confirmados_algarve  \\\n",
       "data                                                                        \n",
       "2020-02-26                   0                     0                    0   \n",
       "2020-02-27                   0                     0                    0   \n",
       "2020-02-28                   0                     0                    0   \n",
       "2020-02-29                   0                     0                    0   \n",
       "2020-03-01                   0                     0                    0   \n",
       "\n",
       "            confirmados_acores  confirmados_madeira  confirmados_estrangeiro  \\\n",
       "data                                                                           \n",
       "2020-02-26                   0                    0                        0   \n",
       "2020-02-27                   0                    0                        0   \n",
       "2020-02-28                   0                    0                        0   \n",
       "2020-02-29                   0                    0                        0   \n",
       "2020-03-01                   0                    0                        0   \n",
       "\n",
       "            confirmados_novos  recuperados  óbitos  internados  \\\n",
       "data                                                             \n",
       "2020-02-26                  0            0       0         0.0   \n",
       "2020-02-27                  0            0       0         0.0   \n",
       "2020-02-28                  0            0       0         0.0   \n",
       "2020-02-29                  0            0       0         0.0   \n",
       "2020-03-01                  0            0       0         0.0   \n",
       "\n",
       "            internados_uci  lab  suspeitos  vigilancia  cadeias_transmissao  \\\n",
       "data                                                                          \n",
       "2020-02-26             0.0  0.0         25         0.0                  0.0   \n",
       "2020-02-27             0.0  0.0         51         0.0                  0.0   \n",
       "2020-02-28             0.0  0.0         59         0.0                  0.0   \n",
       "2020-02-29             0.0  0.0         70         0.0                  0.0   \n",
       "2020-03-01             0.0  0.0         85         0.0                  0.0   \n",
       "\n",
       "            transmissao_importada  transmissao_comunitaria  \n",
       "data                                                        \n",
       "2020-02-26                    0.0                      0.0  \n",
       "2020-02-27                    0.0                      0.0  \n",
       "2020-02-28                    0.0                      0.0  \n",
       "2020-02-29                    0.0                      0.0  \n",
       "2020-03-01                    0.0                      0.0  "
      ]
     },
     "execution_count": 4,
     "metadata": {},
     "output_type": "execute_result"
    }
   ],
   "source": [
    "data = pd.read_csv(DATA_FILEPATH, parse_dates=[0], index_col=[0], infer_datetime_format=True)\n",
    "data.fillna(value=0).head(5)"
   ]
  },
  {
   "cell_type": "markdown",
   "metadata": {},
   "source": [
    "The columns we have: "
   ]
  },
  {
   "cell_type": "markdown",
   "metadata": {},
   "source": [
    "# Inspecting the growth curves in ARS Norte and ARS Lisboa e Vale do Tejo"
   ]
  },
  {
   "cell_type": "markdown",
   "metadata": {},
   "source": [
    "Looking at the numbers per region, we see that the growth in new cases in the _Lisboa e Vale do Tejo_ region has picked up in the last few days, after a rather slow start when compared to the Norte region, the main propagation cluster in the country in the first days. Let's confirm visually: "
   ]
  },
  {
   "cell_type": "code",
   "execution_count": 20,
   "metadata": {},
   "outputs": [
    {
     "data": {
      "application/vnd.jupyter.widget-view+json": {
       "model_id": "954b74f54e1e407fb436be6ff9460ebe",
       "version_major": 2,
       "version_minor": 0
      },
      "text/plain": [
       "Canvas(toolbar=Toolbar(toolitems=[('Home', 'Reset original view', 'home', 'home'), ('Back', 'Back to previous …"
      ]
     },
     "metadata": {},
     "output_type": "display_data"
    },
    {
     "data": {
      "text/plain": [
       "<matplotlib.axes._subplots.AxesSubplot at 0x7fbf3e405050>"
      ]
     },
     "execution_count": 20,
     "metadata": {},
     "output_type": "execute_result"
    }
   ],
   "source": [
    "data[['confirmados_arsnorte', 'confirmados_arslvt']].plot(kind='line', title='Cases in ARS Norte and ARS Lisboa e Vale do Tejo', linestyle='--', marker='o', rot=45, fontsize=8)"
   ]
  },
  {
   "cell_type": "markdown",
   "metadata": {},
   "source": [
    "Let's try and fit an exponential curve to each of these curves. Let's assume a basic exponential growth model for demo purposes ( [source - Wikipedia](https://en.wikipedia.org/wiki/Exponential_growth) ): \n",
    "\n",
    "$ x(t) = x_0 * (1+r)^t $, where $x(t)$ is the number of cases, $x_0$ the number of infected at time $t=0$ and $r$ the exponential growth factor. $t$, the passage of time, is taken in days.\n",
    "\n",
    "**Real world virology propagation is more complex and is affected by a number of externalities (say, the preventive and prophylactic measures taken by the population).**\n",
    "\n",
    "**DO NOT TRUST THE DATA BELOW, IT'S ONLY FOR DEMOSNTRATIVE PURPOSES.** "
   ]
  },
  {
   "cell_type": "code",
   "execution_count": 23,
   "metadata": {},
   "outputs": [
    {
     "name": "stdout",
     "output_type": "stream",
     "text": [
      "Standard deviation of the parameters during fit: [0.21428943 0.01697938]\n",
      "Standard deviation of the parameters during fit: [0.0065653  0.03194738]\n"
     ]
    }
   ],
   "source": [
    "arsnorte_fit_data, growth_rate_norte, params_norte = fit_exponential(np.arange(0, len(data.index)), data.confirmados_arsnorte.values)\n",
    "arslvt_fit_data, growth_rate_lvt, params_lvt = fit_exponential(np.arange(0, len(data.index)), data.confirmados_arslvt.values)"
   ]
  },
  {
   "cell_type": "markdown",
   "metadata": {},
   "source": [
    "Let's visualize them both together, as well as the original data: "
   ]
  },
  {
   "cell_type": "code",
   "execution_count": 25,
   "metadata": {},
   "outputs": [
    {
     "data": {
      "application/vnd.jupyter.widget-view+json": {
       "model_id": "f8a3bcd8c7d54d1ca02887520ddc873c",
       "version_major": 2,
       "version_minor": 0
      },
      "text/plain": [
       "Canvas(toolbar=Toolbar(toolitems=[('Home', 'Reset original view', 'home', 'home'), ('Back', 'Back to previous …"
      ]
     },
     "metadata": {},
     "output_type": "display_data"
    }
   ],
   "source": [
    "fig, ax = plt.subplots(1,1)\n",
    "\n",
    "# Plotting the exponential curves\n",
    "ax.plot(data.index, arsnorte_fit_data, '--', label='ARS Norte')\n",
    "ax.plot(data.index, arslvt_fit_data, '--', label='ARS Lisboa e Vale do Tejo')\n",
    "\n",
    "# Adding the real data\n",
    "ax.scatter(data.index, data.confirmados_arsnorte, marker='o', label='Real data ARS Norte', alpha=0.5)\n",
    "ax.scatter(data.index, data.confirmados_arslvt, marker='o', label='Real data ARS Lisboa e Vale do Tejo', alpha=0.5)\n",
    "\n",
    "ax.set_title('Exponential regression curves for \\nARS Norte (growth rate = {:.3f}) and ARS Lisboa e Vale do Tejo (growth rate = {:.3f})\\n'.format(growth_rate_norte, growth_rate_lvt))\n",
    "ax.set_xlabel('Date')\n",
    "ax.set_ylabel('Number of cases')\n",
    "plt.legend()\n",
    "plt.show()"
   ]
  },
  {
   "cell_type": "markdown",
   "metadata": {},
   "source": [
    "## Shall we visualize this trend a bit into the future?"
   ]
  },
  {
   "cell_type": "markdown",
   "metadata": {},
   "source": [
    "Let's say... 2 weeks into the future: "
   ]
  },
  {
   "cell_type": "code",
   "execution_count": 26,
   "metadata": {},
   "outputs": [],
   "source": [
    "dates = pd.date_range(start=data.index[0], end=data.index[-1]+pd.Timedelta(value=14, unit='D'), freq='D')"
   ]
  },
  {
   "cell_type": "markdown",
   "metadata": {},
   "source": [
    "Computing the curves:"
   ]
  },
  {
   "cell_type": "code",
   "execution_count": 28,
   "metadata": {},
   "outputs": [],
   "source": [
    "prediction_arsnorte = exponential_growth(np.arange(0, len(dates)), *params_norte)\n",
    "prediction_arslvt = exponential_growth(np.arange(0, len(dates)), *params_lvt)"
   ]
  },
  {
   "cell_type": "markdown",
   "metadata": {},
   "source": [
    "Visualizing:"
   ]
  },
  {
   "cell_type": "code",
   "execution_count": 29,
   "metadata": {},
   "outputs": [
    {
     "data": {
      "application/vnd.jupyter.widget-view+json": {
       "model_id": "2a31643898fb4994b0c41d3a0e03a57c",
       "version_major": 2,
       "version_minor": 0
      },
      "text/plain": [
       "Canvas(toolbar=Toolbar(toolitems=[('Home', 'Reset original view', 'home', 'home'), ('Back', 'Back to previous …"
      ]
     },
     "metadata": {},
     "output_type": "display_data"
    }
   ],
   "source": [
    "fig, ax = plt.subplots(1,1)\n",
    "\n",
    "# Plotting the exponential curves\n",
    "ax.plot(dates, prediction_arsnorte, '--', label='ARS Norte (prediction)')\n",
    "ax.plot(dates, prediction_arslvt, '--', label='ARS Lisboa e Vale do Tejo (prediction)')\n",
    "\n",
    "ax.set_title('Predictions for ARS Norte and ARS Lisboa e Vale do Tejo\\n (2 weeks into the future, following simple exponential regression)'.format(growth_rate_norte, growth_rate_lvt))\n",
    "ax.set_xlabel('Date')\n",
    "ax.set_ylabel('Number of cases')\n",
    "plt.legend()\n",
    "plt.show()"
   ]
  },
  {
   "cell_type": "markdown",
   "metadata": {},
   "source": [
    "_Ooopsie._"
   ]
  },
  {
   "cell_type": "markdown",
   "metadata": {},
   "source": [
    "# Conclusion"
   ]
  },
  {
   "cell_type": "markdown",
   "metadata": {},
   "source": [
    "It looks quite drastic, huh? Yes, but **YOU SHOULD NOT TRUST THIS ANALYSIS**. Unless it's coming from a certified Public Health professional, epidemiologist or virology statistician, **DO NOT TRUST IT**.  \n",
    "\n",
    "The considered model represents the extreme worst case scenario: a word in which no counter-measures whatsoever are taken. That is not currently our world. However, it's a glimpse into what could have been. \n",
    "\n",
    "The main and only takeway? #AchataACurva."
   ]
  },
  {
   "cell_type": "code",
   "execution_count": null,
   "metadata": {},
   "outputs": [],
   "source": []
  }
 ],
 "metadata": {
  "kernelspec": {
   "display_name": "Python 3",
   "language": "python",
   "name": "python3"
  },
  "language_info": {
   "codemirror_mode": {
    "name": "ipython",
    "version": 3
   },
   "file_extension": ".py",
   "mimetype": "text/x-python",
   "name": "python",
   "nbconvert_exporter": "python",
   "pygments_lexer": "ipython3",
   "version": "3.7.5"
  }
 },
 "nbformat": 4,
 "nbformat_minor": 4
}
